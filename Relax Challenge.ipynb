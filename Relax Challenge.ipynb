{
 "cells": [
  {
   "cell_type": "markdown",
   "id": "ae6c86da",
   "metadata": {},
   "source": [
    "### Relax Ultimate Challenge:-\n",
    "\n",
    "The data is available as two attached CSV files:\n",
    "\n",
    "takehome_user_engagement. csv\n",
    "\n",
    "takehome_users . csv\n",
    "\n",
    "The data has the following two tables:\n",
    "\n",
    "1] A user table ( \"takehome_users\" ) with data on 12,000 users who signed up for the product in the last two years. This table includes:\n",
    "● name: the user's name\n",
    "\n",
    "● object_id: the user's id\n",
    "\n",
    "● email: email address\n",
    "\n",
    "● creation_source: how their account was created. \n",
    "\n",
    "This takes on one of 5 values:\n",
    "○ PERSONAL_PROJECTS: invited to join another user's personal workspace\n",
    "\n",
    "○ GUEST_INVITE: invited to an organization as a guest (limited permissions)\n",
    "\n",
    "○ ORG_INVITE: invited to an organization (as a full member)\n",
    "\n",
    "○ SIGNUP: signed up via the website\n",
    "\n",
    "○ SIGNUP_GOOGLE_AUTH: signed up using Google\n",
    "\n",
    "Authentication (using a Google email account for their login id)\n",
    "\n",
    "● creation_time: when they created their account\n",
    "\n",
    "● last_session_creation_time: unix timestamp of last login\n",
    "\n",
    "● opted_in_to_mailing_list: whether they have opted into receiving marketing emails\n",
    "\n",
    "● enabled_for_marketing_drip: whether they are on the regular marketing email drip\n",
    "\n",
    "● org_id: the organization (group of users) they belong to\n",
    "\n",
    "● invited_by_user_id: which user invited them to join (if applicable).\n",
    "\n",
    "2] A usage summary table ( \"takehome_user_engagement\" ) that has a row for each day that a user logged into the product.\n",
    "\n",
    "Defining an \"adopted user\" as a user who has logged into the product on three separate days in at least one sevenday\n",
    "period , identify which factors predict future user adoption.\n",
    "\n",
    "Please send us a brief writeup of your findings (the more concise, the better no more\n",
    "than one page), along with any summary tables, graphs, code, or queries that can help\n",
    "us understand your approach. Please note any factors you considered or investigation\n",
    "you did, even if they did not pan out. Feel free to identify any further research or data\n",
    "you think would be valuable."
   ]
  },
  {
   "cell_type": "code",
   "execution_count": 1,
   "id": "a9425d47",
   "metadata": {},
   "outputs": [],
   "source": [
    "### import necessary libraries\n",
    "import pandas as pd\n",
    "import matplotlib.pyplot as plt\n",
    "import seaborn as sns\n",
    "import warnings\n",
    "\n",
    "\n",
    "warnings.filterwarnings('ignore')"
   ]
  },
  {
   "cell_type": "markdown",
   "id": "87e12b28",
   "metadata": {},
   "source": [
    "#### Loading Data:-"
   ]
  },
  {
   "cell_type": "code",
   "execution_count": 2,
   "id": "0f8f4910",
   "metadata": {},
   "outputs": [],
   "source": [
    "#Import data from source\n",
    "#df_users = pd.read_csv('takehome_users.csv')\n",
    "df_users_engage = pd.read_csv('takehome_user_engagement.csv')"
   ]
  },
  {
   "cell_type": "code",
   "execution_count": 3,
   "id": "711bffdf",
   "metadata": {},
   "outputs": [],
   "source": [
    "df_users = pd.read_csv('takehome_users.csv',encoding='ISO-8859-1')"
   ]
  },
  {
   "cell_type": "code",
   "execution_count": 4,
   "id": "34d14654",
   "metadata": {},
   "outputs": [
    {
     "data": {
      "text/html": [
       "<div>\n",
       "<style scoped>\n",
       "    .dataframe tbody tr th:only-of-type {\n",
       "        vertical-align: middle;\n",
       "    }\n",
       "\n",
       "    .dataframe tbody tr th {\n",
       "        vertical-align: top;\n",
       "    }\n",
       "\n",
       "    .dataframe thead th {\n",
       "        text-align: right;\n",
       "    }\n",
       "</style>\n",
       "<table border=\"1\" class=\"dataframe\">\n",
       "  <thead>\n",
       "    <tr style=\"text-align: right;\">\n",
       "      <th></th>\n",
       "      <th>object_id</th>\n",
       "      <th>creation_time</th>\n",
       "      <th>name</th>\n",
       "      <th>email</th>\n",
       "      <th>creation_source</th>\n",
       "      <th>last_session_creation_time</th>\n",
       "      <th>opted_in_to_mailing_list</th>\n",
       "      <th>enabled_for_marketing_drip</th>\n",
       "      <th>org_id</th>\n",
       "      <th>invited_by_user_id</th>\n",
       "    </tr>\n",
       "  </thead>\n",
       "  <tbody>\n",
       "    <tr>\n",
       "      <th>0</th>\n",
       "      <td>1</td>\n",
       "      <td>4/22/2014 3:53</td>\n",
       "      <td>Clausen August</td>\n",
       "      <td>AugustCClausen@yahoo.com</td>\n",
       "      <td>GUEST_INVITE</td>\n",
       "      <td>1.398139e+09</td>\n",
       "      <td>1</td>\n",
       "      <td>0</td>\n",
       "      <td>11</td>\n",
       "      <td>10803.0</td>\n",
       "    </tr>\n",
       "    <tr>\n",
       "      <th>1</th>\n",
       "      <td>2</td>\n",
       "      <td>11/15/2013 3:45</td>\n",
       "      <td>Poole Matthew</td>\n",
       "      <td>MatthewPoole@gustr.com</td>\n",
       "      <td>ORG_INVITE</td>\n",
       "      <td>1.396238e+09</td>\n",
       "      <td>0</td>\n",
       "      <td>0</td>\n",
       "      <td>1</td>\n",
       "      <td>316.0</td>\n",
       "    </tr>\n",
       "    <tr>\n",
       "      <th>2</th>\n",
       "      <td>3</td>\n",
       "      <td>3/19/2013 23:14</td>\n",
       "      <td>Bottrill Mitchell</td>\n",
       "      <td>MitchellBottrill@gustr.com</td>\n",
       "      <td>ORG_INVITE</td>\n",
       "      <td>1.363735e+09</td>\n",
       "      <td>0</td>\n",
       "      <td>0</td>\n",
       "      <td>94</td>\n",
       "      <td>1525.0</td>\n",
       "    </tr>\n",
       "    <tr>\n",
       "      <th>3</th>\n",
       "      <td>4</td>\n",
       "      <td>5/21/2013 8:09</td>\n",
       "      <td>Clausen Nicklas</td>\n",
       "      <td>NicklasSClausen@yahoo.com</td>\n",
       "      <td>GUEST_INVITE</td>\n",
       "      <td>1.369210e+09</td>\n",
       "      <td>0</td>\n",
       "      <td>0</td>\n",
       "      <td>1</td>\n",
       "      <td>5151.0</td>\n",
       "    </tr>\n",
       "    <tr>\n",
       "      <th>4</th>\n",
       "      <td>5</td>\n",
       "      <td>1/17/2013 10:14</td>\n",
       "      <td>Raw Grace</td>\n",
       "      <td>GraceRaw@yahoo.com</td>\n",
       "      <td>GUEST_INVITE</td>\n",
       "      <td>1.358850e+09</td>\n",
       "      <td>0</td>\n",
       "      <td>0</td>\n",
       "      <td>193</td>\n",
       "      <td>5240.0</td>\n",
       "    </tr>\n",
       "  </tbody>\n",
       "</table>\n",
       "</div>"
      ],
      "text/plain": [
       "   object_id    creation_time               name                       email  \\\n",
       "0          1   4/22/2014 3:53     Clausen August    AugustCClausen@yahoo.com   \n",
       "1          2  11/15/2013 3:45      Poole Matthew      MatthewPoole@gustr.com   \n",
       "2          3  3/19/2013 23:14  Bottrill Mitchell  MitchellBottrill@gustr.com   \n",
       "3          4   5/21/2013 8:09    Clausen Nicklas   NicklasSClausen@yahoo.com   \n",
       "4          5  1/17/2013 10:14          Raw Grace          GraceRaw@yahoo.com   \n",
       "\n",
       "  creation_source  last_session_creation_time  opted_in_to_mailing_list  \\\n",
       "0    GUEST_INVITE                1.398139e+09                         1   \n",
       "1      ORG_INVITE                1.396238e+09                         0   \n",
       "2      ORG_INVITE                1.363735e+09                         0   \n",
       "3    GUEST_INVITE                1.369210e+09                         0   \n",
       "4    GUEST_INVITE                1.358850e+09                         0   \n",
       "\n",
       "   enabled_for_marketing_drip  org_id  invited_by_user_id  \n",
       "0                           0      11             10803.0  \n",
       "1                           0       1               316.0  \n",
       "2                           0      94              1525.0  \n",
       "3                           0       1              5151.0  \n",
       "4                           0     193              5240.0  "
      ]
     },
     "execution_count": 4,
     "metadata": {},
     "output_type": "execute_result"
    }
   ],
   "source": [
    "df_users.head()"
   ]
  },
  {
   "cell_type": "code",
   "execution_count": 5,
   "id": "9e7a59d5",
   "metadata": {},
   "outputs": [
    {
     "data": {
      "text/html": [
       "<div>\n",
       "<style scoped>\n",
       "    .dataframe tbody tr th:only-of-type {\n",
       "        vertical-align: middle;\n",
       "    }\n",
       "\n",
       "    .dataframe tbody tr th {\n",
       "        vertical-align: top;\n",
       "    }\n",
       "\n",
       "    .dataframe thead th {\n",
       "        text-align: right;\n",
       "    }\n",
       "</style>\n",
       "<table border=\"1\" class=\"dataframe\">\n",
       "  <thead>\n",
       "    <tr style=\"text-align: right;\">\n",
       "      <th></th>\n",
       "      <th>time_stamp</th>\n",
       "      <th>user_id</th>\n",
       "      <th>visited</th>\n",
       "    </tr>\n",
       "  </thead>\n",
       "  <tbody>\n",
       "    <tr>\n",
       "      <th>0</th>\n",
       "      <td>2014-04-22 03:53:30</td>\n",
       "      <td>1</td>\n",
       "      <td>1</td>\n",
       "    </tr>\n",
       "    <tr>\n",
       "      <th>1</th>\n",
       "      <td>2013-11-15 03:45:04</td>\n",
       "      <td>2</td>\n",
       "      <td>1</td>\n",
       "    </tr>\n",
       "    <tr>\n",
       "      <th>2</th>\n",
       "      <td>2013-11-29 03:45:04</td>\n",
       "      <td>2</td>\n",
       "      <td>1</td>\n",
       "    </tr>\n",
       "    <tr>\n",
       "      <th>3</th>\n",
       "      <td>2013-12-09 03:45:04</td>\n",
       "      <td>2</td>\n",
       "      <td>1</td>\n",
       "    </tr>\n",
       "    <tr>\n",
       "      <th>4</th>\n",
       "      <td>2013-12-25 03:45:04</td>\n",
       "      <td>2</td>\n",
       "      <td>1</td>\n",
       "    </tr>\n",
       "  </tbody>\n",
       "</table>\n",
       "</div>"
      ],
      "text/plain": [
       "            time_stamp  user_id  visited\n",
       "0  2014-04-22 03:53:30        1        1\n",
       "1  2013-11-15 03:45:04        2        1\n",
       "2  2013-11-29 03:45:04        2        1\n",
       "3  2013-12-09 03:45:04        2        1\n",
       "4  2013-12-25 03:45:04        2        1"
      ]
     },
     "execution_count": 5,
     "metadata": {},
     "output_type": "execute_result"
    }
   ],
   "source": [
    "df_users_engage.head()"
   ]
  },
  {
   "cell_type": "code",
   "execution_count": 6,
   "id": "600c4553",
   "metadata": {},
   "outputs": [],
   "source": [
    "df_users = df_users.rename(columns={'object_id': 'user_id'})"
   ]
  },
  {
   "cell_type": "markdown",
   "id": "b2139450",
   "metadata": {},
   "source": [
    "##### Data Wrangling:-"
   ]
  },
  {
   "cell_type": "code",
   "execution_count": 7,
   "id": "f49da4c2",
   "metadata": {},
   "outputs": [],
   "source": [
    "#Changing the Dates to Datetime Object Type\n",
    "df_users['last_session_creation_time'] = pd.to_datetime(df_users['last_session_creation_time'])\n",
    "df_users['creation_time'] = pd.to_datetime(df_users['creation_time'])\n",
    "df_users_engage['time_stamp'] = pd.to_datetime(df_users_engage['time_stamp'])"
   ]
  },
  {
   "cell_type": "code",
   "execution_count": 18,
   "id": "dabdf8b5",
   "metadata": {},
   "outputs": [
    {
     "data": {
      "text/plain": [
       "(Timestamp('2012-05-31 00:43:00'), Timestamp('2014-05-30 23:59:00'))"
      ]
     },
     "execution_count": 18,
     "metadata": {},
     "output_type": "execute_result"
    }
   ],
   "source": [
    "df_users['creation_time'].min(), df_users['creation_time'].max()"
   ]
  },
  {
   "cell_type": "code",
   "execution_count": 19,
   "id": "1c4651ff",
   "metadata": {},
   "outputs": [],
   "source": [
    "df_users_engage.rename(columns={'time_stamp': 'visit_timestamp'},inplace=True)"
   ]
  },
  {
   "cell_type": "code",
   "execution_count": 20,
   "id": "bf8e15db",
   "metadata": {},
   "outputs": [
    {
     "data": {
      "text/plain": [
       "array(['GUEST_INVITE', 'ORG_INVITE', 'SIGNUP', 'PERSONAL_PROJECTS',\n",
       "       'SIGNUP_GOOGLE_AUTH'], dtype=object)"
      ]
     },
     "execution_count": 20,
     "metadata": {},
     "output_type": "execute_result"
    }
   ],
   "source": [
    "df_users.creation_source.unique()"
   ]
  },
  {
   "cell_type": "code",
   "execution_count": 21,
   "id": "f245ec23",
   "metadata": {},
   "outputs": [],
   "source": [
    "df_creation = df_users.groupby('creation_source')['user_id'].count()"
   ]
  },
  {
   "cell_type": "code",
   "execution_count": 22,
   "id": "10bff3f4",
   "metadata": {},
   "outputs": [
    {
     "data": {
      "text/plain": [
       "creation_source\n",
       "GUEST_INVITE          2163\n",
       "ORG_INVITE            4254\n",
       "PERSONAL_PROJECTS     2111\n",
       "SIGNUP                2087\n",
       "SIGNUP_GOOGLE_AUTH    1385\n",
       "Name: user_id, dtype: int64"
      ]
     },
     "execution_count": 22,
     "metadata": {},
     "output_type": "execute_result"
    }
   ],
   "source": [
    "df_creation"
   ]
  },
  {
   "cell_type": "code",
   "execution_count": 23,
   "id": "5e9b60d6",
   "metadata": {},
   "outputs": [
    {
     "data": {
      "image/png": "[encoded data removed]",
      "text/plain": [
       "<Figure size 640x480 with 1 Axes>"
      ]
     },
     "metadata": {},
     "output_type": "display_data"
    }
   ],
   "source": [
    "plt.barh(df_creation.index, df_creation.values,height=0.5)\n",
    "plt.ylabel('Creation Source')\n",
    "plt.xlabel('Number of Users')\n",
    "plt.show()"
   ]
  },
  {
   "cell_type": "code",
   "execution_count": 26,
   "id": "5dd49e66",
   "metadata": {},
   "outputs": [
    {
     "data": {
      "text/plain": [
       "array([1, 0], dtype=int64)"
      ]
     },
     "execution_count": 26,
     "metadata": {},
     "output_type": "execute_result"
    }
   ],
   "source": [
    "df_users['opted_in_to_mailing_list'].unique()"
   ]
  },
  {
   "cell_type": "markdown",
   "id": "c1fc56d3",
   "metadata": {},
   "source": [
    "#### Finding the Adopted Users"
   ]
  },
  {
   "cell_type": "code",
   "execution_count": 27,
   "id": "3d91ee3a",
   "metadata": {},
   "outputs": [],
   "source": [
    "#User who has logged into the product on three separate days in at least one sevenday period\n",
    "df_users_engage['date'] = pd.to_datetime(df_users_engage['visit_timestamp'].dt.date)"
   ]
  },
  {
   "cell_type": "code",
   "execution_count": 28,
   "id": "5055ef31",
   "metadata": {},
   "outputs": [],
   "source": [
    "def rolling_count(df_roll, frequency):\n",
    "    df_roll = df_roll.rolling(frequency, on='date')['user_id'].count()\n",
    "    return df_roll"
   ]
  },
  {
   "cell_type": "code",
   "execution_count": 29,
   "id": "dd59bcb1",
   "metadata": {},
   "outputs": [],
   "source": [
    "df_users_engage['visit_7_days'] = df_users_engage.groupby('user_id', group_keys=False).apply(rolling_count, '7D')"
   ]
  },
  {
   "cell_type": "code",
   "execution_count": 30,
   "id": "dea0ac2b",
   "metadata": {},
   "outputs": [
    {
     "data": {
      "text/html": [
       "<div>\n",
       "<style scoped>\n",
       "    .dataframe tbody tr th:only-of-type {\n",
       "        vertical-align: middle;\n",
       "    }\n",
       "\n",
       "    .dataframe tbody tr th {\n",
       "        vertical-align: top;\n",
       "    }\n",
       "\n",
       "    .dataframe thead th {\n",
       "        text-align: right;\n",
       "    }\n",
       "</style>\n",
       "<table border=\"1\" class=\"dataframe\">\n",
       "  <thead>\n",
       "    <tr style=\"text-align: right;\">\n",
       "      <th></th>\n",
       "      <th>visit_timestamp</th>\n",
       "      <th>user_id</th>\n",
       "      <th>visited</th>\n",
       "      <th>date</th>\n",
       "      <th>visit_7_days</th>\n",
       "    </tr>\n",
       "  </thead>\n",
       "  <tbody>\n",
       "    <tr>\n",
       "      <th>9</th>\n",
       "      <td>2014-02-09 03:45:04</td>\n",
       "      <td>2</td>\n",
       "      <td>1</td>\n",
       "      <td>2014-02-09</td>\n",
       "      <td>3.0</td>\n",
       "    </tr>\n",
       "    <tr>\n",
       "      <th>10</th>\n",
       "      <td>2014-02-13 03:45:04</td>\n",
       "      <td>2</td>\n",
       "      <td>1</td>\n",
       "      <td>2014-02-13</td>\n",
       "      <td>3.0</td>\n",
       "    </tr>\n",
       "    <tr>\n",
       "      <th>27</th>\n",
       "      <td>2013-02-19 22:08:03</td>\n",
       "      <td>10</td>\n",
       "      <td>1</td>\n",
       "      <td>2013-02-19</td>\n",
       "      <td>3.0</td>\n",
       "    </tr>\n",
       "    <tr>\n",
       "      <th>30</th>\n",
       "      <td>2013-03-02 22:08:03</td>\n",
       "      <td>10</td>\n",
       "      <td>1</td>\n",
       "      <td>2013-03-02</td>\n",
       "      <td>3.0</td>\n",
       "    </tr>\n",
       "    <tr>\n",
       "      <th>31</th>\n",
       "      <td>2013-03-05 22:08:03</td>\n",
       "      <td>10</td>\n",
       "      <td>1</td>\n",
       "      <td>2013-03-05</td>\n",
       "      <td>3.0</td>\n",
       "    </tr>\n",
       "    <tr>\n",
       "      <th>...</th>\n",
       "      <td>...</td>\n",
       "      <td>...</td>\n",
       "      <td>...</td>\n",
       "      <td>...</td>\n",
       "      <td>...</td>\n",
       "    </tr>\n",
       "    <tr>\n",
       "      <th>207898</th>\n",
       "      <td>2014-05-23 11:04:47</td>\n",
       "      <td>11988</td>\n",
       "      <td>1</td>\n",
       "      <td>2014-05-23</td>\n",
       "      <td>6.0</td>\n",
       "    </tr>\n",
       "    <tr>\n",
       "      <th>207899</th>\n",
       "      <td>2014-05-24 11:04:47</td>\n",
       "      <td>11988</td>\n",
       "      <td>1</td>\n",
       "      <td>2014-05-24</td>\n",
       "      <td>6.0</td>\n",
       "    </tr>\n",
       "    <tr>\n",
       "      <th>207900</th>\n",
       "      <td>2014-05-26 11:04:47</td>\n",
       "      <td>11988</td>\n",
       "      <td>1</td>\n",
       "      <td>2014-05-26</td>\n",
       "      <td>5.0</td>\n",
       "    </tr>\n",
       "    <tr>\n",
       "      <th>207901</th>\n",
       "      <td>2014-05-27 11:04:47</td>\n",
       "      <td>11988</td>\n",
       "      <td>1</td>\n",
       "      <td>2014-05-27</td>\n",
       "      <td>5.0</td>\n",
       "    </tr>\n",
       "    <tr>\n",
       "      <th>207902</th>\n",
       "      <td>2014-06-01 11:04:47</td>\n",
       "      <td>11988</td>\n",
       "      <td>1</td>\n",
       "      <td>2014-06-01</td>\n",
       "      <td>3.0</td>\n",
       "    </tr>\n",
       "  </tbody>\n",
       "</table>\n",
       "<p>160522 rows × 5 columns</p>\n",
       "</div>"
      ],
      "text/plain": [
       "           visit_timestamp  user_id  visited       date  visit_7_days\n",
       "9      2014-02-09 03:45:04        2        1 2014-02-09           3.0\n",
       "10     2014-02-13 03:45:04        2        1 2014-02-13           3.0\n",
       "27     2013-02-19 22:08:03       10        1 2013-02-19           3.0\n",
       "30     2013-03-02 22:08:03       10        1 2013-03-02           3.0\n",
       "31     2013-03-05 22:08:03       10        1 2013-03-05           3.0\n",
       "...                    ...      ...      ...        ...           ...\n",
       "207898 2014-05-23 11:04:47    11988        1 2014-05-23           6.0\n",
       "207899 2014-05-24 11:04:47    11988        1 2014-05-24           6.0\n",
       "207900 2014-05-26 11:04:47    11988        1 2014-05-26           5.0\n",
       "207901 2014-05-27 11:04:47    11988        1 2014-05-27           5.0\n",
       "207902 2014-06-01 11:04:47    11988        1 2014-06-01           3.0\n",
       "\n",
       "[160522 rows x 5 columns]"
      ]
     },
     "execution_count": 30,
     "metadata": {},
     "output_type": "execute_result"
    }
   ],
   "source": [
    "# Finding the users who visited 3 or more times in a 7 day period\n",
    "df_users_engage[df_users_engage['visit_7_days']>= 3]"
   ]
  },
  {
   "cell_type": "code",
   "execution_count": 31,
   "id": "65b5fce1",
   "metadata": {},
   "outputs": [],
   "source": [
    "# Finding the max visits by a user id\n",
    "adopted_users = df_users_engage.groupby('user_id')['visit_7_days'].max().reset_index()"
   ]
  },
  {
   "cell_type": "code",
   "execution_count": 32,
   "id": "21994217",
   "metadata": {},
   "outputs": [
    {
     "name": "stdout",
     "output_type": "stream",
     "text": [
      "<class 'pandas.core.frame.DataFrame'>\n",
      "RangeIndex: 8823 entries, 0 to 8822\n",
      "Data columns (total 2 columns):\n",
      " #   Column        Non-Null Count  Dtype  \n",
      "---  ------        --------------  -----  \n",
      " 0   user_id       8823 non-null   int64  \n",
      " 1   visit_7_days  8823 non-null   float64\n",
      "dtypes: float64(1), int64(1)\n",
      "memory usage: 138.0 KB\n"
     ]
    }
   ],
   "source": [
    "adopted_users.info()"
   ]
  },
  {
   "cell_type": "code",
   "execution_count": 33,
   "id": "e7e56cb9",
   "metadata": {},
   "outputs": [],
   "source": [
    "adopted_users['adopted_user'] = adopted_users['visit_7_days'].apply(lambda user: 1 if user>=3 else 0)"
   ]
  },
  {
   "cell_type": "code",
   "execution_count": 34,
   "id": "4b6ced53",
   "metadata": {},
   "outputs": [
    {
     "data": {
      "text/plain": [
       "0    7221\n",
       "1    1602\n",
       "Name: adopted_user, dtype: int64"
      ]
     },
     "execution_count": 34,
     "metadata": {},
     "output_type": "execute_result"
    }
   ],
   "source": [
    "adopted_users['adopted_user'].value_counts()"
   ]
  },
  {
   "cell_type": "code",
   "execution_count": 35,
   "id": "4f01b916",
   "metadata": {},
   "outputs": [],
   "source": [
    "adopted_users.drop(columns=['visit_7_days'], inplace=True)"
   ]
  },
  {
   "cell_type": "code",
   "execution_count": 36,
   "id": "67848a1e",
   "metadata": {},
   "outputs": [
    {
     "data": {
      "text/html": [
       "<div>\n",
       "<style scoped>\n",
       "    .dataframe tbody tr th:only-of-type {\n",
       "        vertical-align: middle;\n",
       "    }\n",
       "\n",
       "    .dataframe tbody tr th {\n",
       "        vertical-align: top;\n",
       "    }\n",
       "\n",
       "    .dataframe thead th {\n",
       "        text-align: right;\n",
       "    }\n",
       "</style>\n",
       "<table border=\"1\" class=\"dataframe\">\n",
       "  <thead>\n",
       "    <tr style=\"text-align: right;\">\n",
       "      <th></th>\n",
       "      <th>user_id</th>\n",
       "      <th>adopted_user</th>\n",
       "    </tr>\n",
       "  </thead>\n",
       "  <tbody>\n",
       "    <tr>\n",
       "      <th>0</th>\n",
       "      <td>1</td>\n",
       "      <td>0</td>\n",
       "    </tr>\n",
       "    <tr>\n",
       "      <th>1</th>\n",
       "      <td>2</td>\n",
       "      <td>1</td>\n",
       "    </tr>\n",
       "    <tr>\n",
       "      <th>2</th>\n",
       "      <td>3</td>\n",
       "      <td>0</td>\n",
       "    </tr>\n",
       "    <tr>\n",
       "      <th>3</th>\n",
       "      <td>4</td>\n",
       "      <td>0</td>\n",
       "    </tr>\n",
       "    <tr>\n",
       "      <th>4</th>\n",
       "      <td>5</td>\n",
       "      <td>0</td>\n",
       "    </tr>\n",
       "  </tbody>\n",
       "</table>\n",
       "</div>"
      ],
      "text/plain": [
       "   user_id  adopted_user\n",
       "0        1             0\n",
       "1        2             1\n",
       "2        3             0\n",
       "3        4             0\n",
       "4        5             0"
      ]
     },
     "execution_count": 36,
     "metadata": {},
     "output_type": "execute_result"
    }
   ],
   "source": [
    "adopted_users.head()"
   ]
  },
  {
   "cell_type": "code",
   "execution_count": 37,
   "id": "847dfffa",
   "metadata": {},
   "outputs": [],
   "source": [
    "#joining the adopted_user to main df\n",
    "df = pd.merge(df_users,adopted_users,on='user_id',how='left')"
   ]
  },
  {
   "cell_type": "code",
   "execution_count": 38,
   "id": "5677b2c3",
   "metadata": {},
   "outputs": [
    {
     "data": {
      "text/html": [
       "<div>\n",
       "<style scoped>\n",
       "    .dataframe tbody tr th:only-of-type {\n",
       "        vertical-align: middle;\n",
       "    }\n",
       "\n",
       "    .dataframe tbody tr th {\n",
       "        vertical-align: top;\n",
       "    }\n",
       "\n",
       "    .dataframe thead th {\n",
       "        text-align: right;\n",
       "    }\n",
       "</style>\n",
       "<table border=\"1\" class=\"dataframe\">\n",
       "  <thead>\n",
       "    <tr style=\"text-align: right;\">\n",
       "      <th></th>\n",
       "      <th>user_id</th>\n",
       "      <th>creation_time</th>\n",
       "      <th>creation_source</th>\n",
       "      <th>last_session_creation_time</th>\n",
       "      <th>opted_in_to_mailing_list</th>\n",
       "      <th>enabled_for_marketing_drip</th>\n",
       "      <th>org_id</th>\n",
       "      <th>invited_by_user_id</th>\n",
       "      <th>adopted_user</th>\n",
       "    </tr>\n",
       "  </thead>\n",
       "  <tbody>\n",
       "    <tr>\n",
       "      <th>0</th>\n",
       "      <td>1</td>\n",
       "      <td>2014-04-22 03:53:00</td>\n",
       "      <td>GUEST_INVITE</td>\n",
       "      <td>1970-01-01 00:00:01.398138810</td>\n",
       "      <td>1</td>\n",
       "      <td>0</td>\n",
       "      <td>11</td>\n",
       "      <td>10803.0</td>\n",
       "      <td>0.0</td>\n",
       "    </tr>\n",
       "    <tr>\n",
       "      <th>1</th>\n",
       "      <td>2</td>\n",
       "      <td>2013-11-15 03:45:00</td>\n",
       "      <td>ORG_INVITE</td>\n",
       "      <td>1970-01-01 00:00:01.396237504</td>\n",
       "      <td>0</td>\n",
       "      <td>0</td>\n",
       "      <td>1</td>\n",
       "      <td>316.0</td>\n",
       "      <td>1.0</td>\n",
       "    </tr>\n",
       "    <tr>\n",
       "      <th>2</th>\n",
       "      <td>3</td>\n",
       "      <td>2013-03-19 23:14:00</td>\n",
       "      <td>ORG_INVITE</td>\n",
       "      <td>1970-01-01 00:00:01.363734892</td>\n",
       "      <td>0</td>\n",
       "      <td>0</td>\n",
       "      <td>94</td>\n",
       "      <td>1525.0</td>\n",
       "      <td>0.0</td>\n",
       "    </tr>\n",
       "    <tr>\n",
       "      <th>3</th>\n",
       "      <td>4</td>\n",
       "      <td>2013-05-21 08:09:00</td>\n",
       "      <td>GUEST_INVITE</td>\n",
       "      <td>1970-01-01 00:00:01.369210168</td>\n",
       "      <td>0</td>\n",
       "      <td>0</td>\n",
       "      <td>1</td>\n",
       "      <td>5151.0</td>\n",
       "      <td>0.0</td>\n",
       "    </tr>\n",
       "    <tr>\n",
       "      <th>4</th>\n",
       "      <td>5</td>\n",
       "      <td>2013-01-17 10:14:00</td>\n",
       "      <td>GUEST_INVITE</td>\n",
       "      <td>1970-01-01 00:00:01.358849660</td>\n",
       "      <td>0</td>\n",
       "      <td>0</td>\n",
       "      <td>193</td>\n",
       "      <td>5240.0</td>\n",
       "      <td>0.0</td>\n",
       "    </tr>\n",
       "  </tbody>\n",
       "</table>\n",
       "</div>"
      ],
      "text/plain": [
       "   user_id       creation_time creation_source    last_session_creation_time  \\\n",
       "0        1 2014-04-22 03:53:00    GUEST_INVITE 1970-01-01 00:00:01.398138810   \n",
       "1        2 2013-11-15 03:45:00      ORG_INVITE 1970-01-01 00:00:01.396237504   \n",
       "2        3 2013-03-19 23:14:00      ORG_INVITE 1970-01-01 00:00:01.363734892   \n",
       "3        4 2013-05-21 08:09:00    GUEST_INVITE 1970-01-01 00:00:01.369210168   \n",
       "4        5 2013-01-17 10:14:00    GUEST_INVITE 1970-01-01 00:00:01.358849660   \n",
       "\n",
       "   opted_in_to_mailing_list  enabled_for_marketing_drip  org_id  \\\n",
       "0                         1                           0      11   \n",
       "1                         0                           0       1   \n",
       "2                         0                           0      94   \n",
       "3                         0                           0       1   \n",
       "4                         0                           0     193   \n",
       "\n",
       "   invited_by_user_id  adopted_user  \n",
       "0             10803.0           0.0  \n",
       "1               316.0           1.0  \n",
       "2              1525.0           0.0  \n",
       "3              5151.0           0.0  \n",
       "4              5240.0           0.0  "
      ]
     },
     "execution_count": 38,
     "metadata": {},
     "output_type": "execute_result"
    }
   ],
   "source": [
    "df.head()"
   ]
  },
  {
   "cell_type": "code",
   "execution_count": 39,
   "id": "04020ef2",
   "metadata": {},
   "outputs": [
    {
     "name": "stdout",
     "output_type": "stream",
     "text": [
      "<class 'pandas.core.frame.DataFrame'>\n",
      "Int64Index: 12000 entries, 0 to 11999\n",
      "Data columns (total 9 columns):\n",
      " #   Column                      Non-Null Count  Dtype         \n",
      "---  ------                      --------------  -----         \n",
      " 0   user_id                     12000 non-null  int64         \n",
      " 1   creation_time               12000 non-null  datetime64[ns]\n",
      " 2   creation_source             12000 non-null  object        \n",
      " 3   last_session_creation_time  8823 non-null   datetime64[ns]\n",
      " 4   opted_in_to_mailing_list    12000 non-null  int64         \n",
      " 5   enabled_for_marketing_drip  12000 non-null  int64         \n",
      " 6   org_id                      12000 non-null  int64         \n",
      " 7   invited_by_user_id          6417 non-null   float64       \n",
      " 8   adopted_user                8823 non-null   float64       \n",
      "dtypes: datetime64[ns](2), float64(2), int64(4), object(1)\n",
      "memory usage: 937.5+ KB\n"
     ]
    }
   ],
   "source": [
    "df.info()"
   ]
  },
  {
   "cell_type": "code",
   "execution_count": 40,
   "id": "ec78156b",
   "metadata": {},
   "outputs": [],
   "source": [
    "df['invited_by_user_id'] = df['invited_by_user_id'].fillna(0)\n",
    "df['adopted_user'] = df['adopted_user'].fillna(0)\n",
    "df['last_session_creation_time'] = df['last_session_creation_time'].fillna(0)"
   ]
  },
  {
   "cell_type": "code",
   "execution_count": 41,
   "id": "c629eeda",
   "metadata": {},
   "outputs": [],
   "source": [
    "#We add a new columns called 'days_since_creation' which is the difference between last visit timestamp and creation time\n",
    "df['days_since_creation'] = (df_users_engage.visit_timestamp.max() - df.creation_time).dt.days"
   ]
  },
  {
   "cell_type": "code",
   "execution_count": 42,
   "id": "514c70c0",
   "metadata": {},
   "outputs": [
    {
     "data": {
      "text/html": [
       "<div>\n",
       "<style scoped>\n",
       "    .dataframe tbody tr th:only-of-type {\n",
       "        vertical-align: middle;\n",
       "    }\n",
       "\n",
       "    .dataframe tbody tr th {\n",
       "        vertical-align: top;\n",
       "    }\n",
       "\n",
       "    .dataframe thead th {\n",
       "        text-align: right;\n",
       "    }\n",
       "</style>\n",
       "<table border=\"1\" class=\"dataframe\">\n",
       "  <thead>\n",
       "    <tr style=\"text-align: right;\">\n",
       "      <th></th>\n",
       "      <th>user_id</th>\n",
       "      <th>creation_time</th>\n",
       "      <th>creation_source</th>\n",
       "      <th>last_session_creation_time</th>\n",
       "      <th>opted_in_to_mailing_list</th>\n",
       "      <th>enabled_for_marketing_drip</th>\n",
       "      <th>org_id</th>\n",
       "      <th>invited_by_user_id</th>\n",
       "      <th>adopted_user</th>\n",
       "      <th>days_since_creation</th>\n",
       "    </tr>\n",
       "  </thead>\n",
       "  <tbody>\n",
       "    <tr>\n",
       "      <th>0</th>\n",
       "      <td>1</td>\n",
       "      <td>2014-04-22 03:53:00</td>\n",
       "      <td>GUEST_INVITE</td>\n",
       "      <td>1970-01-01 00:00:01.398138810</td>\n",
       "      <td>1</td>\n",
       "      <td>0</td>\n",
       "      <td>11</td>\n",
       "      <td>10803.0</td>\n",
       "      <td>0.0</td>\n",
       "      <td>45</td>\n",
       "    </tr>\n",
       "    <tr>\n",
       "      <th>1</th>\n",
       "      <td>2</td>\n",
       "      <td>2013-11-15 03:45:00</td>\n",
       "      <td>ORG_INVITE</td>\n",
       "      <td>1970-01-01 00:00:01.396237504</td>\n",
       "      <td>0</td>\n",
       "      <td>0</td>\n",
       "      <td>1</td>\n",
       "      <td>316.0</td>\n",
       "      <td>1.0</td>\n",
       "      <td>203</td>\n",
       "    </tr>\n",
       "    <tr>\n",
       "      <th>2</th>\n",
       "      <td>3</td>\n",
       "      <td>2013-03-19 23:14:00</td>\n",
       "      <td>ORG_INVITE</td>\n",
       "      <td>1970-01-01 00:00:01.363734892</td>\n",
       "      <td>0</td>\n",
       "      <td>0</td>\n",
       "      <td>94</td>\n",
       "      <td>1525.0</td>\n",
       "      <td>0.0</td>\n",
       "      <td>443</td>\n",
       "    </tr>\n",
       "    <tr>\n",
       "      <th>3</th>\n",
       "      <td>4</td>\n",
       "      <td>2013-05-21 08:09:00</td>\n",
       "      <td>GUEST_INVITE</td>\n",
       "      <td>1970-01-01 00:00:01.369210168</td>\n",
       "      <td>0</td>\n",
       "      <td>0</td>\n",
       "      <td>1</td>\n",
       "      <td>5151.0</td>\n",
       "      <td>0.0</td>\n",
       "      <td>381</td>\n",
       "    </tr>\n",
       "    <tr>\n",
       "      <th>4</th>\n",
       "      <td>5</td>\n",
       "      <td>2013-01-17 10:14:00</td>\n",
       "      <td>GUEST_INVITE</td>\n",
       "      <td>1970-01-01 00:00:01.358849660</td>\n",
       "      <td>0</td>\n",
       "      <td>0</td>\n",
       "      <td>193</td>\n",
       "      <td>5240.0</td>\n",
       "      <td>0.0</td>\n",
       "      <td>505</td>\n",
       "    </tr>\n",
       "  </tbody>\n",
       "</table>\n",
       "</div>"
      ],
      "text/plain": [
       "   user_id       creation_time creation_source     last_session_creation_time  \\\n",
       "0        1 2014-04-22 03:53:00    GUEST_INVITE  1970-01-01 00:00:01.398138810   \n",
       "1        2 2013-11-15 03:45:00      ORG_INVITE  1970-01-01 00:00:01.396237504   \n",
       "2        3 2013-03-19 23:14:00      ORG_INVITE  1970-01-01 00:00:01.363734892   \n",
       "3        4 2013-05-21 08:09:00    GUEST_INVITE  1970-01-01 00:00:01.369210168   \n",
       "4        5 2013-01-17 10:14:00    GUEST_INVITE  1970-01-01 00:00:01.358849660   \n",
       "\n",
       "   opted_in_to_mailing_list  enabled_for_marketing_drip  org_id  \\\n",
       "0                         1                           0      11   \n",
       "1                         0                           0       1   \n",
       "2                         0                           0      94   \n",
       "3                         0                           0       1   \n",
       "4                         0                           0     193   \n",
       "\n",
       "   invited_by_user_id  adopted_user  days_since_creation  \n",
       "0             10803.0           0.0                   45  \n",
       "1               316.0           1.0                  203  \n",
       "2              1525.0           0.0                  443  \n",
       "3              5151.0           0.0                  381  \n",
       "4              5240.0           0.0                  505  "
      ]
     },
     "execution_count": 42,
     "metadata": {},
     "output_type": "execute_result"
    }
   ],
   "source": [
    "df.head()"
   ]
  },
  {
   "cell_type": "code",
   "execution_count": 43,
   "id": "05155aae",
   "metadata": {},
   "outputs": [],
   "source": [
    "#Removing the Data columns before model creation\n",
    "df = df.drop(columns=['creation_time', 'last_session_creation_time'], axis=1)\n",
    "#df = df.drop(columns=['last_session_creation_time'], axis=1)"
   ]
  },
  {
   "cell_type": "code",
   "execution_count": 44,
   "id": "1dd8acd2",
   "metadata": {},
   "outputs": [
    {
     "data": {
      "text/html": [
       "<div>\n",
       "<style scoped>\n",
       "    .dataframe tbody tr th:only-of-type {\n",
       "        vertical-align: middle;\n",
       "    }\n",
       "\n",
       "    .dataframe tbody tr th {\n",
       "        vertical-align: top;\n",
       "    }\n",
       "\n",
       "    .dataframe thead th {\n",
       "        text-align: right;\n",
       "    }\n",
       "</style>\n",
       "<table border=\"1\" class=\"dataframe\">\n",
       "  <thead>\n",
       "    <tr style=\"text-align: right;\">\n",
       "      <th></th>\n",
       "      <th>user_id</th>\n",
       "      <th>creation_source</th>\n",
       "      <th>opted_in_to_mailing_list</th>\n",
       "      <th>enabled_for_marketing_drip</th>\n",
       "      <th>org_id</th>\n",
       "      <th>invited_by_user_id</th>\n",
       "      <th>adopted_user</th>\n",
       "      <th>days_since_creation</th>\n",
       "    </tr>\n",
       "  </thead>\n",
       "  <tbody>\n",
       "    <tr>\n",
       "      <th>0</th>\n",
       "      <td>1</td>\n",
       "      <td>GUEST_INVITE</td>\n",
       "      <td>1</td>\n",
       "      <td>0</td>\n",
       "      <td>11</td>\n",
       "      <td>10803.0</td>\n",
       "      <td>0.0</td>\n",
       "      <td>45</td>\n",
       "    </tr>\n",
       "    <tr>\n",
       "      <th>1</th>\n",
       "      <td>2</td>\n",
       "      <td>ORG_INVITE</td>\n",
       "      <td>0</td>\n",
       "      <td>0</td>\n",
       "      <td>1</td>\n",
       "      <td>316.0</td>\n",
       "      <td>1.0</td>\n",
       "      <td>203</td>\n",
       "    </tr>\n",
       "    <tr>\n",
       "      <th>2</th>\n",
       "      <td>3</td>\n",
       "      <td>ORG_INVITE</td>\n",
       "      <td>0</td>\n",
       "      <td>0</td>\n",
       "      <td>94</td>\n",
       "      <td>1525.0</td>\n",
       "      <td>0.0</td>\n",
       "      <td>443</td>\n",
       "    </tr>\n",
       "    <tr>\n",
       "      <th>3</th>\n",
       "      <td>4</td>\n",
       "      <td>GUEST_INVITE</td>\n",
       "      <td>0</td>\n",
       "      <td>0</td>\n",
       "      <td>1</td>\n",
       "      <td>5151.0</td>\n",
       "      <td>0.0</td>\n",
       "      <td>381</td>\n",
       "    </tr>\n",
       "    <tr>\n",
       "      <th>4</th>\n",
       "      <td>5</td>\n",
       "      <td>GUEST_INVITE</td>\n",
       "      <td>0</td>\n",
       "      <td>0</td>\n",
       "      <td>193</td>\n",
       "      <td>5240.0</td>\n",
       "      <td>0.0</td>\n",
       "      <td>505</td>\n",
       "    </tr>\n",
       "  </tbody>\n",
       "</table>\n",
       "</div>"
      ],
      "text/plain": [
       "   user_id creation_source  opted_in_to_mailing_list  \\\n",
       "0        1    GUEST_INVITE                         1   \n",
       "1        2      ORG_INVITE                         0   \n",
       "2        3      ORG_INVITE                         0   \n",
       "3        4    GUEST_INVITE                         0   \n",
       "4        5    GUEST_INVITE                         0   \n",
       "\n",
       "   enabled_for_marketing_drip  org_id  invited_by_user_id  adopted_user  \\\n",
       "0                           0      11             10803.0           0.0   \n",
       "1                           0       1               316.0           1.0   \n",
       "2                           0      94              1525.0           0.0   \n",
       "3                           0       1              5151.0           0.0   \n",
       "4                           0     193              5240.0           0.0   \n",
       "\n",
       "   days_since_creation  \n",
       "0                   45  \n",
       "1                  203  \n",
       "2                  443  \n",
       "3                  381  \n",
       "4                  505  "
      ]
     },
     "execution_count": 44,
     "metadata": {},
     "output_type": "execute_result"
    }
   ],
   "source": [
    "df.head()"
   ]
  },
  {
   "cell_type": "code",
   "execution_count": 45,
   "id": "7b149a58",
   "metadata": {},
   "outputs": [],
   "source": [
    "#performing one hot encoding\n",
    "df = pd.get_dummies(df)"
   ]
  },
  {
   "cell_type": "code",
   "execution_count": 46,
   "id": "86127db7",
   "metadata": {},
   "outputs": [
    {
     "data": {
      "text/plain": [
       "(12000, 12)"
      ]
     },
     "execution_count": 46,
     "metadata": {},
     "output_type": "execute_result"
    }
   ],
   "source": [
    "df.shape"
   ]
  },
  {
   "cell_type": "markdown",
   "id": "7fc8bf59",
   "metadata": {},
   "source": [
    "#### Data Pre-Processing:-"
   ]
  },
  {
   "cell_type": "code",
   "execution_count": 47,
   "id": "31fe5802",
   "metadata": {},
   "outputs": [],
   "source": [
    "# Removing invited_by_user_id  as it has no relevance\n",
    "df = df.drop(columns='invited_by_user_id',axis=1)"
   ]
  },
  {
   "cell_type": "code",
   "execution_count": 48,
   "id": "4e3a892a",
   "metadata": {},
   "outputs": [],
   "source": [
    "# We will do Random Forrest to find the most important feature causing adoptability \n",
    "from sklearn.model_selection import train_test_split\n",
    "from sklearn.model_selection import GridSearchCV\n",
    "from sklearn.ensemble import RandomForestClassifier\n",
    "from sklearn.metrics import classification_report, accuracy_score, f1_score, recall_score, precision_score, roc_auc_score, roc_curve\n",
    "from sklearn.metrics import confusion_matrix"
   ]
  },
  {
   "cell_type": "code",
   "execution_count": 49,
   "id": "12def19a",
   "metadata": {},
   "outputs": [],
   "source": [
    "#drop the target variable and split the data\n",
    "X = df.drop(columns=['adopted_user'],axis=1)\n",
    "y = df['adopted_user']"
   ]
  },
  {
   "cell_type": "code",
   "execution_count": 50,
   "id": "d67b6670",
   "metadata": {},
   "outputs": [],
   "source": [
    "X_train, X_test, y_train, y_test = train_test_split(X,y,test_size=0.3, random_state=42)"
   ]
  },
  {
   "cell_type": "markdown",
   "id": "e483a47e",
   "metadata": {},
   "source": [
    "#### Modelling:-"
   ]
  },
  {
   "cell_type": "code",
   "execution_count": 51,
   "id": "77ce0584",
   "metadata": {},
   "outputs": [],
   "source": [
    "# We choose Random Forest as our Model for finding the Adopted Users\n",
    "rf = RandomForestClassifier()\n",
    "rf.fit(X_train,y_train)\n",
    "y_pred = rf.predict(X_test)\n",
    "acc_score = accuracy_score(y_pred,y_test)"
   ]
  },
  {
   "cell_type": "code",
   "execution_count": 52,
   "id": "e31f0ca8",
   "metadata": {},
   "outputs": [
    {
     "name": "stdout",
     "output_type": "stream",
     "text": [
      "Accuracy Score of the Model is: 0.8613888888888889\n"
     ]
    }
   ],
   "source": [
    "print('Accuracy Score of the Model is:',acc_score)"
   ]
  },
  {
   "cell_type": "markdown",
   "id": "102d97c2",
   "metadata": {},
   "source": [
    "Our Model gave a Accuracy Score of 86.14% in predicting the Users more like to become Adopted users viz. who will login at least 3 times a week. \n",
    "Lets see if we can optimize to improve this Score for better."
   ]
  },
  {
   "cell_type": "markdown",
   "id": "19e0e8b5",
   "metadata": {},
   "source": [
    "### Hyperparameter Optimization"
   ]
  },
  {
   "cell_type": "code",
   "execution_count": 53,
   "id": "42f960fc",
   "metadata": {},
   "outputs": [],
   "source": [
    "#defining the Param grids\n",
    "n_estimators = [10,20,50,100,200]\n",
    "max_options = [5, 8, 10, 'auto', None]\n",
    "oob_options = [True, False]\n",
    "param_grid = {'n_estimators': n_estimators, 'max_features': max_options, 'oob_score': oob_options}"
   ]
  },
  {
   "cell_type": "code",
   "execution_count": null,
   "id": "a8a1759c",
   "metadata": {},
   "outputs": [],
   "source": [
    "rf_cv = GridSearchCV(rf,param_grid=param_grid,cv=5)\n",
    "rf_cv.fit(X_train,y_train)\n",
    "y_predict = rf_cv.predict(X_test)"
   ]
  },
  {
   "cell_type": "code",
   "execution_count": null,
   "id": "f4fd8488",
   "metadata": {},
   "outputs": [],
   "source": [
    "best_parm = rf_cv.best_params_\n",
    "best_score = rf_cv.best_score_"
   ]
  },
  {
   "cell_type": "code",
   "execution_count": null,
   "id": "bbcbb0e2",
   "metadata": {},
   "outputs": [],
   "source": [
    "print('Best Params are',best_parm)\n",
    "print('Best Score is:',best_score)"
   ]
  },
  {
   "cell_type": "code",
   "execution_count": null,
   "id": "8f2079b4",
   "metadata": {},
   "outputs": [],
   "source": [
    "#Predicting the Result using the best Parameters found above\n",
    "\n",
    "rf_best = RandomForestClassifier(n_estimators=200, max_features= 8, oob_score= False)\n",
    "rf_best.fit(X_train,y_train)\n",
    "y_predi = rf_best.predict(X_test)"
   ]
  },
  {
   "cell_type": "code",
   "execution_count": null,
   "id": "bd52638f",
   "metadata": {},
   "outputs": [],
   "source": [
    "#Checking Model Accuracy\n",
    "print('Accuracy of the Model is:',accuracy_score(y_predi, y_test))\n",
    "print('Classification_Report\\n',classification_report(y_test,y_predi))\n",
    "print('Confusion Matrix:\\n',confusion_matrix(y_test,y_predi))\n",
    "print('Best Features:\\n',rf_best.feature_importances_)"
   ]
  },
  {
   "cell_type": "markdown",
   "id": "f708aec2",
   "metadata": {},
   "source": [
    "#### Feature Importance:-"
   ]
  },
  {
   "cell_type": "code",
   "execution_count": null,
   "id": "bf26cb03",
   "metadata": {},
   "outputs": [],
   "source": [
    "df_imp_feature = pd.DataFrame({'feature': X.columns, 'importance': rf_best.feature_importances_})"
   ]
  },
  {
   "cell_type": "code",
   "execution_count": null,
   "id": "d58c2339",
   "metadata": {},
   "outputs": [],
   "source": [
    "df_imp_feature = df_imp_feature.sort_values(by='importance',ascending=False)\n",
    "df_imp_feature.sort_values(by='importance', inplace=True)"
   ]
  },
  {
   "cell_type": "code",
   "execution_count": null,
   "id": "b9583888",
   "metadata": {},
   "outputs": [],
   "source": [
    "#df_imp_feature = df_imp_feature.set_index('feature', drop=True)"
   ]
  },
  {
   "cell_type": "code",
   "execution_count": null,
   "id": "d8f21340",
   "metadata": {},
   "outputs": [],
   "source": [
    "#df_imp_feature.reset_index(inplace=True)"
   ]
  },
  {
   "cell_type": "code",
   "execution_count": null,
   "id": "c05ddcae",
   "metadata": {},
   "outputs": [],
   "source": [
    "_ = df_imp_feature.plot(kind='barh',x='feature',y='importance')\n",
    "plt.show()"
   ]
  },
  {
   "cell_type": "markdown",
   "id": "d2833931",
   "metadata": {},
   "source": [
    "#### Conclusion:-"
   ]
  },
  {
   "cell_type": "markdown",
   "id": "a62ff3a4",
   "metadata": {},
   "source": [
    "The top 5 important features seem to be:\n",
    "\n",
    "1. user_id\n",
    "\n",
    "2. days_since_creation\n",
    "\n",
    "3. org_id\n",
    "\n",
    "4. opted_in_to_mailing_list\n",
    "\n",
    "5. enabled_for_marketing_drip"
   ]
  },
  {
   "cell_type": "markdown",
   "id": "a1d07bae",
   "metadata": {},
   "source": [
    "Our Model has an Accuracy of 86% in predicting the Users who are likely to login 3 or more times in a 7 day period. The above features have an impact on the usage and we should try to address these in order to increase user logins."
   ]
  }
 ],
 "metadata": {
  "kernelspec": {
   "display_name": "Python 3 (ipykernel)",
   "language": "python",
   "name": "python3"
  },
  "language_info": {
   "codemirror_mode": {
    "name": "ipython",
    "version": 3
   },
   "file_extension": ".py",
   "mimetype": "text/x-python",
   "name": "python",
   "nbconvert_exporter": "python",
   "pygments_lexer": "ipython3",
   "version": "3.9.13"
  }
 },
 "nbformat": 4,
 "nbformat_minor": 5
}
