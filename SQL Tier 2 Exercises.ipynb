{
 "cells": [
  {
   "cell_type": "markdown",
   "id": "8f249f06",
   "metadata": {},
   "source": [
    "### Produce a report of members and who recommended them in alphabetic surname,firstname order."
   ]
  },
  {
   "cell_type": "code",
   "execution_count": 2,
   "id": "26c5fcf3",
   "metadata": {},
   "outputs": [
    {
     "name": "stdout",
     "output_type": "stream",
     "text": [
      "2.6.0\n",
      "2. Query all tasks\n",
      "('Bader', 'Florence', 'Stibbons', 'Ponder')\n",
      "('Baker', 'Anne', 'Stibbons', 'Ponder')\n",
      "('Baker', 'Timothy', 'Farrell', 'Jemima')\n",
      "('Boothe', 'Tim', 'Rownam', 'Tim')\n",
      "('Butters', 'Gerald', 'Smith', 'Darren')\n",
      "('Coplin', 'Joan', 'Baker', 'Timothy')\n",
      "('Crumpet', 'Erica', 'Smith', 'Tracy')\n",
      "('Dare', 'Nancy', 'Joplette', 'Janice')\n",
      "('Genting', 'Matthew', 'Butters', 'Gerald')\n",
      "('Hunt', 'John', 'Purview', 'Millicent')\n",
      "('Jones', 'David', 'Joplette', 'Janice')\n",
      "('Jones', 'Douglas', 'Jones', 'David')\n",
      "('Joplette', 'Janice', 'Smith', 'Darren')\n",
      "('Mackenzie', 'Anna', 'Smith', 'Darren')\n",
      "('Owen', 'Charles', 'Smith', 'Darren')\n",
      "('Pinker', 'David', 'Farrell', 'Jemima')\n",
      "('Purview', 'Millicent', 'Smith', 'Tracy')\n",
      "('Rumney', 'Henrietta', 'Genting', 'Matthew')\n",
      "('Sarwin', 'Ramnaresh', 'Bader', 'Florence')\n",
      "('Smith', 'Jack', 'Smith', 'Darren')\n",
      "('Stibbons', 'Ponder', 'Tracy', 'Burton')\n",
      "('Worthington-Smyth', 'Henry', 'Smith', 'Tracy')\n"
     ]
    }
   ],
   "source": [
    "import sqlite3\n",
    "from sqlite3 import Error\n",
    "\n",
    " \n",
    "def create_connection(db_file):\n",
    "    \"\"\" create a database connection to the SQLite database\n",
    "        specified by the db_file\n",
    "    :param db_file: database file\n",
    "    :return: Connection object or None\n",
    "    \"\"\"\n",
    "    conn = None\n",
    "    try:\n",
    "        conn = sqlite3.connect(db_file)\n",
    "        print(sqlite3.version)\n",
    "    except Error as e:\n",
    "        print(e)\n",
    " \n",
    "    return conn\n",
    "\n",
    " \n",
    "def select_all_tasks(conn):\n",
    "    \"\"\"\n",
    "    Query all rows in the tasks table\n",
    "    :param conn: the Connection object\n",
    "    :return:\n",
    "    \"\"\"\n",
    "    cur = conn.cursor()\n",
    "    \n",
    "    query1 = \"\"\"\n",
    "        SELECT a.surname, a.firstname, b.surname AS recomender_surname, b.firstname AS recomender_firstname\n",
    "          FROM `Members` a \n",
    "          LEFT JOIN `Members` b \n",
    "            ON a.recommendedby = b.memid\n",
    "            WHERE a.recommendedby > 0\n",
    "            ORDER BY 1,2;\n",
    "        \"\"\"\n",
    "    cur.execute(query1)\n",
    " \n",
    "    rows = cur.fetchall()\n",
    " \n",
    "    for row in rows:\n",
    "        print(row)\n",
    "\n",
    "\n",
    "def main():\n",
    "    database = \"sqlite_db_pythonsqlite.db\"\n",
    " \n",
    "    # create a database connection\n",
    "    conn = create_connection(database)\n",
    "    with conn: \n",
    "        print(\"2. Query all tasks\")\n",
    "        select_all_tasks(conn)\n",
    " \n",
    " \n",
    "if __name__ == '__main__':\n",
    "    main()"
   ]
  },
  {
   "cell_type": "markdown",
   "id": "baf350af",
   "metadata": {},
   "source": [
    "### Produce a list of facilities with a total revenue less than 1000. The output of facility name and total revenue, sorted by revenue."
   ]
  },
  {
   "cell_type": "code",
   "execution_count": 3,
   "id": "6f120c72",
   "metadata": {},
   "outputs": [],
   "source": [
    "def select_task_2(conn):\n",
    "    \"\"\"\n",
    "    Query all rows in the tasks table\n",
    "    :param conn: the Connection object\n",
    "    :return:\n",
    "    \"\"\"\n",
    "    cur = conn.cursor()\n",
    "    \n",
    "    query2 = \"\"\"\n",
    "        SELECT a.facid, b.name,\n",
    "\t\tSUM(CASE WHEN a.memid > 0 THEN a.slots * b.membercost\n",
    "        \t ELSE a.slots * b.guestcost\n",
    "        END) AS Revenue\n",
    "FROM `Bookings` a\n",
    " LEFT JOIN `Facilities` b\n",
    "ON a.facid = b.facid\n",
    "GROUP BY 1,2\n",
    "HAVING Revenue < 1000\n",
    "ORDER BY Revenue DESC;\n",
    "        \"\"\"\n",
    "    cur.execute(query2)\n",
    " \n",
    "    rows = cur.fetchall()\n",
    " \n",
    "    for row in rows:\n",
    "        print(row)"
   ]
  },
  {
   "cell_type": "code",
   "execution_count": 4,
   "id": "50a775cf",
   "metadata": {},
   "outputs": [
    {
     "name": "stdout",
     "output_type": "stream",
     "text": [
      "2.6.0\n",
      "2. Query all tasks\n",
      "(8, 'Pool Table', 270)\n",
      "(7, 'Snooker Table', 240)\n",
      "(3, 'Table Tennis', 180)\n"
     ]
    }
   ],
   "source": [
    "def main():\n",
    "    database = \"sqlite_db_pythonsqlite.db\"\n",
    " \n",
    "    # create a database connection\n",
    "    conn = create_connection(database)\n",
    "    with conn: \n",
    "        print(\"2. Query all tasks\")\n",
    "        select_task_2(conn)\n",
    " \n",
    " \n",
    "if __name__ == '__main__':\n",
    "    main()"
   ]
  },
  {
   "cell_type": "markdown",
   "id": "9106d9a0",
   "metadata": {},
   "source": [
    "### Find the facilities with their usage by member, but not guests."
   ]
  },
  {
   "cell_type": "code",
   "execution_count": 5,
   "id": "5b0b3327",
   "metadata": {},
   "outputs": [],
   "source": [
    "def select_task_3(conn):\n",
    "    \"\"\"\n",
    "    Query all rows in the tasks table\n",
    "    :param conn: the Connection object\n",
    "    :return:\n",
    "    \"\"\"\n",
    "    cur = conn.cursor()\n",
    "    \n",
    "    query3 = \"\"\"\n",
    "        SELECT a.facid, COUNT(a.memid) AS Mbr_Count\n",
    "  FROM `Bookings` a \n",
    "  LEFT JOIN `Members` b \n",
    "ON a.memid = b.memid\n",
    "WHERE a.memid > 0\n",
    "GROUP BY 1\n",
    "ORDER BY Mbr_Count DESC;\n",
    "        \"\"\"\n",
    "    cur.execute(query3)\n",
    " \n",
    "    rows = cur.fetchall()\n",
    " \n",
    "    for row in rows:\n",
    "        print(row)"
   ]
  },
  {
   "cell_type": "code",
   "execution_count": 6,
   "id": "443ea1f1",
   "metadata": {},
   "outputs": [
    {
     "name": "stdout",
     "output_type": "stream",
     "text": [
      "2.6.0\n",
      "2. Query all tasks\n",
      "(8, 783)\n",
      "(7, 421)\n",
      "(4, 421)\n",
      "(3, 385)\n",
      "(2, 344)\n",
      "(0, 308)\n",
      "(1, 276)\n",
      "(6, 195)\n",
      "(5, 27)\n"
     ]
    }
   ],
   "source": [
    "def main():\n",
    "    database = \"sqlite_db_pythonsqlite.db\"\n",
    " \n",
    "    # create a database connection\n",
    "    conn = create_connection(database)\n",
    "    with conn: \n",
    "        print(\"2. Query all tasks\")\n",
    "        select_task_3(conn)\n",
    " \n",
    " \n",
    "if __name__ == '__main__':\n",
    "    main()"
   ]
  },
  {
   "cell_type": "markdown",
   "id": "19a88baa",
   "metadata": {},
   "source": [
    "### Find the facilities usage by month, but not guests."
   ]
  },
  {
   "cell_type": "code",
   "execution_count": 7,
   "id": "80658822",
   "metadata": {},
   "outputs": [],
   "source": [
    "def select_task_4(conn):\n",
    "    \"\"\"\n",
    "    Query all rows in the tasks table\n",
    "    :param conn: the Connection object\n",
    "    :return:\n",
    "    \"\"\"\n",
    "    cur = conn.cursor()\n",
    "    \n",
    "    query4 = \"\"\"\n",
    "        SELECT a.facid, SUBSTRING(a.starttime,6,2) AS Month, COUNT(a.memid) AS Mbr_Count\n",
    "  FROM `Bookings` a \n",
    "  LEFT JOIN `Members` b \n",
    "ON a.memid = b.memid\n",
    "WHERE a.memid > 0\n",
    "GROUP BY 1,2\n",
    "ORDER BY 1,2 DESC;\n",
    "        \"\"\"\n",
    "    cur.execute(query4)\n",
    " \n",
    "    rows = cur.fetchall()\n",
    " \n",
    "    for row in rows:\n",
    "        print(row)"
   ]
  },
  {
   "cell_type": "code",
   "execution_count": 8,
   "id": "84f0d53d",
   "metadata": {},
   "outputs": [
    {
     "name": "stdout",
     "output_type": "stream",
     "text": [
      "2.6.0\n",
      "2. Query all tasks\n",
      "(0, '09', 132)\n",
      "(0, '08', 111)\n",
      "(0, '07', 65)\n",
      "(1, '09', 126)\n",
      "(1, '08', 109)\n",
      "(1, '07', 41)\n",
      "(2, '09', 161)\n",
      "(2, '08', 132)\n",
      "(2, '07', 51)\n",
      "(3, '09', 194)\n",
      "(3, '08', 143)\n",
      "(3, '07', 48)\n",
      "(4, '09', 191)\n",
      "(4, '08', 153)\n",
      "(4, '07', 77)\n",
      "(5, '09', 14)\n",
      "(5, '08', 9)\n",
      "(5, '07', 4)\n",
      "(6, '09', 87)\n",
      "(6, '08', 85)\n",
      "(6, '07', 23)\n",
      "(7, '09', 199)\n",
      "(7, '08', 154)\n",
      "(7, '07', 68)\n",
      "(8, '09', 408)\n",
      "(8, '08', 272)\n",
      "(8, '07', 103)\n"
     ]
    }
   ],
   "source": [
    "def main():\n",
    "    database = \"sqlite_db_pythonsqlite.db\"\n",
    " \n",
    "    # create a database connection\n",
    "    conn = create_connection(database)\n",
    "    with conn: \n",
    "        print(\"2. Query all tasks\")\n",
    "        select_task_4(conn)\n",
    " \n",
    " \n",
    "if __name__ == '__main__':\n",
    "    main()"
   ]
  },
  {
   "cell_type": "code",
   "execution_count": null,
   "id": "e1e5be15",
   "metadata": {},
   "outputs": [],
   "source": []
  }
 ],
 "metadata": {
  "kernelspec": {
   "display_name": "Python 3 (ipykernel)",
   "language": "python",
   "name": "python3"
  },
  "language_info": {
   "codemirror_mode": {
    "name": "ipython",
    "version": 3
   },
   "file_extension": ".py",
   "mimetype": "text/x-python",
   "name": "python",
   "nbconvert_exporter": "python",
   "pygments_lexer": "ipython3",
   "version": "3.9.13"
  }
 },
 "nbformat": 4,
 "nbformat_minor": 5
}
